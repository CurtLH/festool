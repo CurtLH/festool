{
 "cells": [
  {
   "cell_type": "code",
   "execution_count": 1,
   "id": "cfae20f2-97d0-4c14-82ae-efadd262381c",
   "metadata": {},
   "outputs": [],
   "source": [
    "import requests\n",
    "from datetime import datetime"
   ]
  },
  {
   "cell_type": "code",
   "execution_count": 2,
   "id": "ac428b57-adb7-4cc1-8717-9def3cffb672",
   "metadata": {},
   "outputs": [],
   "source": [
    "r = requests.get(\"https://www.festoolrecon.com/\")"
   ]
  },
  {
   "cell_type": "code",
   "execution_count": 3,
   "id": "35280da8-99b0-4030-bf88-ea71bdf7f56f",
   "metadata": {},
   "outputs": [],
   "source": [
    "if r.status_code == 200:\n",
    "    fname = datetime.strftime(datetime.now(), '%Y%m%d%H%M') + \".html\"\n",
    "    with open(fname, \"w\", encoding=\"utf-8\") as f:\n",
    "        f.write(str(r.text))"
   ]
  }
 ],
 "metadata": {
  "kernelspec": {
   "display_name": "Python 3",
   "language": "python",
   "name": "python3"
  },
  "language_info": {
   "codemirror_mode": {
    "name": "ipython",
    "version": 3
   },
   "file_extension": ".py",
   "mimetype": "text/x-python",
   "name": "python",
   "nbconvert_exporter": "python",
   "pygments_lexer": "ipython3",
   "version": "3.8.10"
  }
 },
 "nbformat": 4,
 "nbformat_minor": 5
}
