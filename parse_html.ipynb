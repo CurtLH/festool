{
 "cells": [
  {
   "cell_type": "code",
   "execution_count": 1,
   "id": "cfae20f2-97d0-4c14-82ae-efadd262381c",
   "metadata": {},
   "outputs": [],
   "source": [
    "from datetime import datetime\n",
    "from bs4 import BeautifulSoup as bs"
   ]
  },
  {
   "cell_type": "code",
   "execution_count": 2,
   "id": "754cc0d6-a23c-4e67-97fa-85ec13b469d7",
   "metadata": {
    "tags": []
   },
   "outputs": [],
   "source": [
    "class parse:\n",
    "    def __init__(self, fname):\n",
    "        with open(fname) as f:\n",
    "            html = f.read()\n",
    "        soup = bs(html, \"html.parser\")\n",
    "        self.get_datetime(fname)\n",
    "        self.get_product_name(soup)\n",
    "        self.get_previous_price(soup)\n",
    "        self.get_current_price(soup)\n",
    "\n",
    "    def get_datetime(self, fname):\n",
    "        \n",
    "        self.datetime = datetime.strptime(fname[-18:-5], '%Y%m%d%H%M')\n",
    "    \n",
    "    def get_product_name(self, soup):\n",
    "        product_title = soup.find(\"h1\", {\"class\": \"product-single__title\"}).text.strip()\n",
    "        self.product_name = product_title\n",
    "\n",
    "    def get_previous_price(self, soup):\n",
    "        previous_price = soup.find(id=\"ComparePrice-product-template\")\n",
    "        if previous_price is not None:\n",
    "            self.previous_price = previous_price.text.strip()\n",
    "        else:\n",
    "            self.previous_price = None\n",
    "\n",
    "    def get_current_price(self, soup):\n",
    "        current_price = soup.find(id=\"ProductPrice-product-template\")\n",
    "        if current_price is not None:\n",
    "            self.current_price = current_price.text.strip()\n",
    "        else:\n",
    "            self.current_price = None"
   ]
  },
  {
   "cell_type": "code",
   "execution_count": 3,
   "id": "0367003a-6762-480f-ae34-0b4799252633",
   "metadata": {},
   "outputs": [
    {
     "data": {
      "text/plain": [
       "{'datetime': datetime.datetime(2021, 7, 6, 21, 29),\n",
       " 'product_name': 'Wow, that went fast!!!',\n",
       " 'previous_price': None,\n",
       " 'current_price': None}"
      ]
     },
     "execution_count": 3,
     "metadata": {},
     "output_type": "execute_result"
    }
   ],
   "source": [
    "x = parse('202107062129.html')\n",
    "vars(x)"
   ]
  },
  {
   "cell_type": "code",
   "execution_count": 4,
   "id": "8982e323-01fb-408f-a396-1fe6da8fa039",
   "metadata": {},
   "outputs": [
    {
     "data": {
      "text/plain": [
       "{'datetime': datetime.datetime(2021, 7, 6, 21, 30),\n",
       " 'product_name': 'Wow, that went fast!!!',\n",
       " 'previous_price': None,\n",
       " 'current_price': None}"
      ]
     },
     "execution_count": 4,
     "metadata": {},
     "output_type": "execute_result"
    }
   ],
   "source": [
    "x = parse('202107062130.html')\n",
    "vars(x)"
   ]
  },
  {
   "cell_type": "code",
   "execution_count": 5,
   "id": "8e204a63-c3a1-44e7-acd9-f868bc0c706a",
   "metadata": {},
   "outputs": [
    {
     "data": {
      "text/plain": [
       "{'datetime': datetime.datetime(2021, 7, 6, 21, 59),\n",
       " 'product_name': 'Wow, that went fast!!!',\n",
       " 'previous_price': None,\n",
       " 'current_price': None}"
      ]
     },
     "execution_count": 5,
     "metadata": {},
     "output_type": "execute_result"
    }
   ],
   "source": [
    "x = parse('202107062159.html')\n",
    "vars(x)"
   ]
  }
 ],
 "metadata": {
  "kernelspec": {
   "display_name": "Python 3",
   "language": "python",
   "name": "python3"
  },
  "language_info": {
   "codemirror_mode": {
    "name": "ipython",
    "version": 3
   },
   "file_extension": ".py",
   "mimetype": "text/x-python",
   "name": "python",
   "nbconvert_exporter": "python",
   "pygments_lexer": "ipython3",
   "version": "3.8.10"
  }
 },
 "nbformat": 4,
 "nbformat_minor": 5
}
